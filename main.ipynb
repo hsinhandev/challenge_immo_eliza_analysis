{
 "cells": [
  {
   "cell_type": "code",
   "execution_count": 10,
   "metadata": {},
   "outputs": [],
   "source": [
    "import pandas as pd\n",
    "import numpy as np"
   ]
  },
  {
   "cell_type": "code",
   "execution_count": 34,
   "metadata": {},
   "outputs": [],
   "source": [
    "df = pd.read_csv('data/raw_dataset_dropPrice_str.csv', index_col=[0])"
   ]
  },
  {
   "cell_type": "markdown",
   "metadata": {},
   "source": [
    "# Data exploration"
   ]
  },
  {
   "cell_type": "markdown",
   "metadata": {},
   "source": [
    "### Remove duplicate ID"
   ]
  },
  {
   "cell_type": "code",
   "execution_count": 35,
   "metadata": {},
   "outputs": [
    {
     "data": {
      "text/plain": [
       "9691876    4\n",
       "9662650    3\n",
       "9597143    3\n",
       "8237073    3\n",
       "9687272    3\n",
       "          ..\n",
       "9623733    1\n",
       "9245768    1\n",
       "9606238    1\n",
       "9695276    1\n",
       "7921699    1\n",
       "Name: Immoweb ID, Length: 13893, dtype: int64"
      ]
     },
     "execution_count": 35,
     "metadata": {},
     "output_type": "execute_result"
    }
   ],
   "source": [
    "df['Immoweb ID'].value_counts()"
   ]
  },
  {
   "cell_type": "code",
   "execution_count": 13,
   "metadata": {},
   "outputs": [
    {
     "data": {
      "text/plain": [
       "9729720    1\n",
       "9678715    1\n",
       "9697071    1\n",
       "9557609    1\n",
       "9678634    1\n",
       "          ..\n",
       "9518030    1\n",
       "9622950    1\n",
       "9478102    1\n",
       "9620790    1\n",
       "7921699    1\n",
       "Name: Immoweb ID, Length: 13893, dtype: int64"
      ]
     },
     "execution_count": 13,
     "metadata": {},
     "output_type": "execute_result"
    }
   ],
   "source": [
    "df = df.drop_duplicates(['Immoweb ID'], keep='last')\n",
    "df['Immoweb ID'].value_counts()"
   ]
  },
  {
   "cell_type": "markdown",
   "metadata": {},
   "source": [
    "### Remove subtype "
   ]
  },
  {
   "cell_type": "code",
   "execution_count": 14,
   "metadata": {},
   "outputs": [
    {
     "data": {
      "text/plain": [
       "VILLA                   2468\n",
       "GROUND_FLOOR            1606\n",
       "DUPLEX                  1580\n",
       "MIXED_USE_BUILDING      1240\n",
       "PENTHOUSE               1170\n",
       "FLAT_STUDIO              873\n",
       "EXCEPTIONAL_PROPERTY     566\n",
       "SERVICE_FLAT             500\n",
       "MANSION                  479\n",
       "TOWN_HOUSE               383\n",
       "COUNTRY_COTTAGE          292\n",
       "LOFT                     271\n",
       "BUNGALOW                 212\n",
       "FARMHOUSE                171\n",
       "TRIPLEX                   99\n",
       "KOT                       95\n",
       "CHALET                    94\n",
       "MANOR_HOUSE               62\n",
       "CASTLE                    50\n",
       "Name: property sub-type, dtype: int64"
      ]
     },
     "execution_count": 14,
     "metadata": {},
     "output_type": "execute_result"
    }
   ],
   "source": [
    "df = df[df['property sub-type'] != \"APARTMENT_BLOCK\"]\n",
    "df['property sub-type'].value_counts()"
   ]
  },
  {
   "cell_type": "markdown",
   "metadata": {},
   "source": [
    "# Data Cleaning"
   ]
  },
  {
   "cell_type": "markdown",
   "metadata": {},
   "source": [
    "### Building condition"
   ]
  },
  {
   "cell_type": "code",
   "execution_count": 15,
   "metadata": {},
   "outputs": [
    {
     "data": {
      "text/plain": [
       "array(['Good', nan, 'As new', 'To renovate', 'To be done up',\n",
       "       'Just renovated', 'To restore'], dtype=object)"
      ]
     },
     "execution_count": 15,
     "metadata": {},
     "output_type": "execute_result"
    }
   ],
   "source": [
    "df['Building condition'].value_counts()\n",
    "df['Building condition'].unique()"
   ]
  },
  {
   "cell_type": "code",
   "execution_count": 63,
   "metadata": {},
   "outputs": [],
   "source": [
    "building_condition_map = {'As new': 6, 'Just renovated': 5, 'Good': 4, 'To be done up': 3, 'To renovate':2, 'To restore':1}\n",
    "df = df.applymap(lambda s: building_condition_map.get(s) if s in building_condition_map else s)"
   ]
  },
  {
   "cell_type": "code",
   "execution_count": 17,
   "metadata": {},
   "outputs": [
    {
     "data": {
      "text/plain": [
       "3828"
      ]
     },
     "execution_count": 17,
     "metadata": {},
     "output_type": "execute_result"
    }
   ],
   "source": [
    "df['Building condition'].isnull().sum()"
   ]
  },
  {
   "cell_type": "code",
   "execution_count": 18,
   "metadata": {},
   "outputs": [
    {
     "data": {
      "text/plain": [
       "0"
      ]
     },
     "execution_count": 18,
     "metadata": {},
     "output_type": "execute_result"
    }
   ],
   "source": [
    "df['Building condition'] = df['Building condition'].fillna(2)\n",
    "df['Building condition'].isnull().sum()"
   ]
  },
  {
   "cell_type": "markdown",
   "metadata": {},
   "source": [
    "### Kitchen type\t\n"
   ]
  },
  {
   "cell_type": "markdown",
   "metadata": {},
   "source": [
    "### Bedrooms\n"
   ]
  },
  {
   "cell_type": "markdown",
   "metadata": {},
   "source": [
    "### Furnished\n"
   ]
  },
  {
   "cell_type": "code",
   "execution_count": 19,
   "metadata": {},
   "outputs": [
    {
     "data": {
      "text/plain": [
       "array(['Yes', 'No', nan], dtype=object)"
      ]
     },
     "execution_count": 19,
     "metadata": {},
     "output_type": "execute_result"
    }
   ],
   "source": [
    "df['Furnished'].unique()"
   ]
  },
  {
   "cell_type": "code",
   "execution_count": 20,
   "metadata": {},
   "outputs": [
    {
     "data": {
      "text/plain": [
       "4080"
      ]
     },
     "execution_count": 20,
     "metadata": {},
     "output_type": "execute_result"
    }
   ],
   "source": [
    "df['Furnished'].isnull().sum()"
   ]
  },
  {
   "cell_type": "markdown",
   "metadata": {},
   "source": [
    "#### fill No to missing value then map to 1,0"
   ]
  },
  {
   "cell_type": "code",
   "execution_count": 21,
   "metadata": {},
   "outputs": [],
   "source": [
    "df['Furnished'] = df['Furnished'].fillna(\"No\")\n",
    "df['Furnished'] = df['Furnished'].apply(lambda v: 0 if v == \"No\" else 1)"
   ]
  },
  {
   "cell_type": "markdown",
   "metadata": {},
   "source": [
    "#### double check if value is 1, 0 and no missing value"
   ]
  },
  {
   "cell_type": "code",
   "execution_count": 22,
   "metadata": {},
   "outputs": [
    {
     "name": "stdout",
     "output_type": "stream",
     "text": [
      "[1 0]\n",
      "0\n"
     ]
    }
   ],
   "source": [
    "print(df['Furnished'].unique())\n",
    "print(df['Furnished'].isna().sum())"
   ]
  },
  {
   "cell_type": "markdown",
   "metadata": {},
   "source": [
    "### Terrace surface + Terrace\t\n"
   ]
  },
  {
   "cell_type": "markdown",
   "metadata": {},
   "source": [
    "### Tenement building\t\n"
   ]
  },
  {
   "cell_type": "markdown",
   "metadata": {},
   "source": [
    "### Swimming pool\t\n"
   ]
  },
  {
   "cell_type": "markdown",
   "metadata": {},
   "source": [
    "### How many fireplaces?\t\n"
   ]
  },
  {
   "cell_type": "markdown",
   "metadata": {},
   "source": [
    "### Garden + Garden surface\t\n"
   ]
  },
  {
   "cell_type": "code",
   "execution_count": 23,
   "metadata": {},
   "outputs": [
    {
     "name": "stdout",
     "output_type": "stream",
     "text": [
      "11051\n",
      "[nan 'Yes']\n"
     ]
    }
   ],
   "source": [
    "print(df['Garden'].isna().sum())\n",
    "print(df['Garden'].unique())"
   ]
  },
  {
   "cell_type": "code",
   "execution_count": 24,
   "metadata": {},
   "outputs": [
    {
     "data": {
      "text/html": [
       "<div>\n",
       "<style scoped>\n",
       "    .dataframe tbody tr th:only-of-type {\n",
       "        vertical-align: middle;\n",
       "    }\n",
       "\n",
       "    .dataframe tbody tr th {\n",
       "        vertical-align: top;\n",
       "    }\n",
       "\n",
       "    .dataframe thead th {\n",
       "        text-align: right;\n",
       "    }\n",
       "</style>\n",
       "<table border=\"1\" class=\"dataframe\">\n",
       "  <thead>\n",
       "    <tr style=\"text-align: right;\">\n",
       "      <th></th>\n",
       "      <th>Unnamed: 0</th>\n",
       "      <th>Immoweb ID</th>\n",
       "      <th>Property type</th>\n",
       "      <th>property sub-type</th>\n",
       "      <th>Price</th>\n",
       "      <th>Post code</th>\n",
       "      <th>Building condition</th>\n",
       "      <th>Kitchen type</th>\n",
       "      <th>Bedrooms</th>\n",
       "      <th>Furnished</th>\n",
       "      <th>Terrace surface</th>\n",
       "      <th>Tenement building</th>\n",
       "      <th>Number of frontages</th>\n",
       "      <th>Swimming pool</th>\n",
       "      <th>How many fireplaces?</th>\n",
       "      <th>Garden</th>\n",
       "      <th>Garden orientation</th>\n",
       "      <th>Garden surface</th>\n",
       "      <th>Terrace</th>\n",
       "      <th>Surface of the plot</th>\n",
       "    </tr>\n",
       "  </thead>\n",
       "  <tbody>\n",
       "    <tr>\n",
       "      <th>0</th>\n",
       "      <td>0</td>\n",
       "      <td>9729720</td>\n",
       "      <td>APARTMENT</td>\n",
       "      <td>PENTHOUSE</td>\n",
       "      <td>179000.0</td>\n",
       "      <td>1140</td>\n",
       "      <td>4.0</td>\n",
       "      <td>Semi equipped</td>\n",
       "      <td>1.0</td>\n",
       "      <td>1</td>\n",
       "      <td>9.0</td>\n",
       "      <td>No</td>\n",
       "      <td>NaN</td>\n",
       "      <td>NaN</td>\n",
       "      <td>NaN</td>\n",
       "      <td>NaN</td>\n",
       "      <td>NaN</td>\n",
       "      <td>NaN</td>\n",
       "      <td>NaN</td>\n",
       "      <td>NaN</td>\n",
       "    </tr>\n",
       "    <tr>\n",
       "      <th>1</th>\n",
       "      <td>1</td>\n",
       "      <td>9729785</td>\n",
       "      <td>APARTMENT</td>\n",
       "      <td>PENTHOUSE</td>\n",
       "      <td>255000.0</td>\n",
       "      <td>8370</td>\n",
       "      <td>4.0</td>\n",
       "      <td>Installed</td>\n",
       "      <td>1.0</td>\n",
       "      <td>1</td>\n",
       "      <td>46.0</td>\n",
       "      <td>No</td>\n",
       "      <td>2.0</td>\n",
       "      <td>NaN</td>\n",
       "      <td>NaN</td>\n",
       "      <td>NaN</td>\n",
       "      <td>NaN</td>\n",
       "      <td>NaN</td>\n",
       "      <td>NaN</td>\n",
       "      <td>NaN</td>\n",
       "    </tr>\n",
       "    <tr>\n",
       "      <th>2</th>\n",
       "      <td>2</td>\n",
       "      <td>9729784</td>\n",
       "      <td>APARTMENT</td>\n",
       "      <td>PENTHOUSE</td>\n",
       "      <td>255000.0</td>\n",
       "      <td>8370</td>\n",
       "      <td>4.0</td>\n",
       "      <td>Installed</td>\n",
       "      <td>1.0</td>\n",
       "      <td>1</td>\n",
       "      <td>46.0</td>\n",
       "      <td>No</td>\n",
       "      <td>2.0</td>\n",
       "      <td>NaN</td>\n",
       "      <td>NaN</td>\n",
       "      <td>NaN</td>\n",
       "      <td>NaN</td>\n",
       "      <td>NaN</td>\n",
       "      <td>NaN</td>\n",
       "      <td>NaN</td>\n",
       "    </tr>\n",
       "    <tr>\n",
       "      <th>3</th>\n",
       "      <td>3</td>\n",
       "      <td>9729780</td>\n",
       "      <td>APARTMENT</td>\n",
       "      <td>PENTHOUSE</td>\n",
       "      <td>620000.0</td>\n",
       "      <td>8370</td>\n",
       "      <td>4.0</td>\n",
       "      <td>Installed</td>\n",
       "      <td>3.0</td>\n",
       "      <td>1</td>\n",
       "      <td>70.0</td>\n",
       "      <td>No</td>\n",
       "      <td>2.0</td>\n",
       "      <td>NaN</td>\n",
       "      <td>NaN</td>\n",
       "      <td>NaN</td>\n",
       "      <td>NaN</td>\n",
       "      <td>NaN</td>\n",
       "      <td>NaN</td>\n",
       "      <td>NaN</td>\n",
       "    </tr>\n",
       "    <tr>\n",
       "      <th>4</th>\n",
       "      <td>4</td>\n",
       "      <td>9727201</td>\n",
       "      <td>APARTMENT</td>\n",
       "      <td>PENTHOUSE</td>\n",
       "      <td>379000.0</td>\n",
       "      <td>1020</td>\n",
       "      <td>4.0</td>\n",
       "      <td>USA hyper equipped</td>\n",
       "      <td>2.0</td>\n",
       "      <td>0</td>\n",
       "      <td>110.0</td>\n",
       "      <td>No</td>\n",
       "      <td>3.0</td>\n",
       "      <td>No</td>\n",
       "      <td>NaN</td>\n",
       "      <td>NaN</td>\n",
       "      <td>NaN</td>\n",
       "      <td>NaN</td>\n",
       "      <td>NaN</td>\n",
       "      <td>NaN</td>\n",
       "    </tr>\n",
       "    <tr>\n",
       "      <th>...</th>\n",
       "      <td>...</td>\n",
       "      <td>...</td>\n",
       "      <td>...</td>\n",
       "      <td>...</td>\n",
       "      <td>...</td>\n",
       "      <td>...</td>\n",
       "      <td>...</td>\n",
       "      <td>...</td>\n",
       "      <td>...</td>\n",
       "      <td>...</td>\n",
       "      <td>...</td>\n",
       "      <td>...</td>\n",
       "      <td>...</td>\n",
       "      <td>...</td>\n",
       "      <td>...</td>\n",
       "      <td>...</td>\n",
       "      <td>...</td>\n",
       "      <td>...</td>\n",
       "      <td>...</td>\n",
       "      <td>...</td>\n",
       "    </tr>\n",
       "    <tr>\n",
       "      <th>14138</th>\n",
       "      <td>14536</td>\n",
       "      <td>7770552</td>\n",
       "      <td>APARTMENT</td>\n",
       "      <td>SERVICE_FLAT</td>\n",
       "      <td>132000.0</td>\n",
       "      <td>1730</td>\n",
       "      <td>6.0</td>\n",
       "      <td>NaN</td>\n",
       "      <td>1.0</td>\n",
       "      <td>0</td>\n",
       "      <td>NaN</td>\n",
       "      <td>No</td>\n",
       "      <td>NaN</td>\n",
       "      <td>NaN</td>\n",
       "      <td>NaN</td>\n",
       "      <td>NaN</td>\n",
       "      <td>NaN</td>\n",
       "      <td>NaN</td>\n",
       "      <td>NaN</td>\n",
       "      <td>NaN</td>\n",
       "    </tr>\n",
       "    <tr>\n",
       "      <th>14139</th>\n",
       "      <td>14537</td>\n",
       "      <td>7770553</td>\n",
       "      <td>APARTMENT</td>\n",
       "      <td>SERVICE_FLAT</td>\n",
       "      <td>177000.0</td>\n",
       "      <td>1730</td>\n",
       "      <td>6.0</td>\n",
       "      <td>NaN</td>\n",
       "      <td>1.0</td>\n",
       "      <td>0</td>\n",
       "      <td>NaN</td>\n",
       "      <td>No</td>\n",
       "      <td>NaN</td>\n",
       "      <td>NaN</td>\n",
       "      <td>NaN</td>\n",
       "      <td>NaN</td>\n",
       "      <td>NaN</td>\n",
       "      <td>NaN</td>\n",
       "      <td>Yes</td>\n",
       "      <td>NaN</td>\n",
       "    </tr>\n",
       "    <tr>\n",
       "      <th>14140</th>\n",
       "      <td>14538</td>\n",
       "      <td>7770551</td>\n",
       "      <td>APARTMENT</td>\n",
       "      <td>SERVICE_FLAT</td>\n",
       "      <td>190000.0</td>\n",
       "      <td>1730</td>\n",
       "      <td>6.0</td>\n",
       "      <td>NaN</td>\n",
       "      <td>2.0</td>\n",
       "      <td>0</td>\n",
       "      <td>NaN</td>\n",
       "      <td>No</td>\n",
       "      <td>NaN</td>\n",
       "      <td>NaN</td>\n",
       "      <td>NaN</td>\n",
       "      <td>NaN</td>\n",
       "      <td>NaN</td>\n",
       "      <td>NaN</td>\n",
       "      <td>Yes</td>\n",
       "      <td>NaN</td>\n",
       "    </tr>\n",
       "    <tr>\n",
       "      <th>14141</th>\n",
       "      <td>14539</td>\n",
       "      <td>7921693</td>\n",
       "      <td>APARTMENT</td>\n",
       "      <td>SERVICE_FLAT</td>\n",
       "      <td>1350000.0</td>\n",
       "      <td>5600</td>\n",
       "      <td>2.0</td>\n",
       "      <td>NaN</td>\n",
       "      <td>30.0</td>\n",
       "      <td>0</td>\n",
       "      <td>NaN</td>\n",
       "      <td>No</td>\n",
       "      <td>NaN</td>\n",
       "      <td>NaN</td>\n",
       "      <td>NaN</td>\n",
       "      <td>NaN</td>\n",
       "      <td>NaN</td>\n",
       "      <td>NaN</td>\n",
       "      <td>NaN</td>\n",
       "      <td>NaN</td>\n",
       "    </tr>\n",
       "    <tr>\n",
       "      <th>14142</th>\n",
       "      <td>14540</td>\n",
       "      <td>7921699</td>\n",
       "      <td>APARTMENT</td>\n",
       "      <td>SERVICE_FLAT</td>\n",
       "      <td>3100000.0</td>\n",
       "      <td>6940</td>\n",
       "      <td>2.0</td>\n",
       "      <td>NaN</td>\n",
       "      <td>25.0</td>\n",
       "      <td>0</td>\n",
       "      <td>NaN</td>\n",
       "      <td>No</td>\n",
       "      <td>4.0</td>\n",
       "      <td>NaN</td>\n",
       "      <td>NaN</td>\n",
       "      <td>NaN</td>\n",
       "      <td>NaN</td>\n",
       "      <td>NaN</td>\n",
       "      <td>NaN</td>\n",
       "      <td>NaN</td>\n",
       "    </tr>\n",
       "  </tbody>\n",
       "</table>\n",
       "<p>9846 rows × 20 columns</p>\n",
       "</div>"
      ],
      "text/plain": [
       "       Unnamed: 0  Immoweb ID Property type property sub-type      Price  \\\n",
       "0               0     9729720     APARTMENT         PENTHOUSE   179000.0   \n",
       "1               1     9729785     APARTMENT         PENTHOUSE   255000.0   \n",
       "2               2     9729784     APARTMENT         PENTHOUSE   255000.0   \n",
       "3               3     9729780     APARTMENT         PENTHOUSE   620000.0   \n",
       "4               4     9727201     APARTMENT         PENTHOUSE   379000.0   \n",
       "...           ...         ...           ...               ...        ...   \n",
       "14138       14536     7770552     APARTMENT      SERVICE_FLAT   132000.0   \n",
       "14139       14537     7770553     APARTMENT      SERVICE_FLAT   177000.0   \n",
       "14140       14538     7770551     APARTMENT      SERVICE_FLAT   190000.0   \n",
       "14141       14539     7921693     APARTMENT      SERVICE_FLAT  1350000.0   \n",
       "14142       14540     7921699     APARTMENT      SERVICE_FLAT  3100000.0   \n",
       "\n",
       "       Post code  Building condition        Kitchen type  Bedrooms  Furnished  \\\n",
       "0           1140                 4.0       Semi equipped       1.0          1   \n",
       "1           8370                 4.0           Installed       1.0          1   \n",
       "2           8370                 4.0           Installed       1.0          1   \n",
       "3           8370                 4.0           Installed       3.0          1   \n",
       "4           1020                 4.0  USA hyper equipped       2.0          0   \n",
       "...          ...                 ...                 ...       ...        ...   \n",
       "14138       1730                 6.0                 NaN       1.0          0   \n",
       "14139       1730                 6.0                 NaN       1.0          0   \n",
       "14140       1730                 6.0                 NaN       2.0          0   \n",
       "14141       5600                 2.0                 NaN      30.0          0   \n",
       "14142       6940                 2.0                 NaN      25.0          0   \n",
       "\n",
       "       Terrace surface Tenement building  Number of frontages Swimming pool  \\\n",
       "0                  9.0                No                  NaN           NaN   \n",
       "1                 46.0                No                  2.0           NaN   \n",
       "2                 46.0                No                  2.0           NaN   \n",
       "3                 70.0                No                  2.0           NaN   \n",
       "4                110.0                No                  3.0            No   \n",
       "...                ...               ...                  ...           ...   \n",
       "14138              NaN                No                  NaN           NaN   \n",
       "14139              NaN                No                  NaN           NaN   \n",
       "14140              NaN                No                  NaN           NaN   \n",
       "14141              NaN                No                  NaN           NaN   \n",
       "14142              NaN                No                  4.0           NaN   \n",
       "\n",
       "       How many fireplaces? Garden Garden orientation  Garden surface Terrace  \\\n",
       "0                       NaN    NaN                NaN             NaN     NaN   \n",
       "1                       NaN    NaN                NaN             NaN     NaN   \n",
       "2                       NaN    NaN                NaN             NaN     NaN   \n",
       "3                       NaN    NaN                NaN             NaN     NaN   \n",
       "4                       NaN    NaN                NaN             NaN     NaN   \n",
       "...                     ...    ...                ...             ...     ...   \n",
       "14138                   NaN    NaN                NaN             NaN     NaN   \n",
       "14139                   NaN    NaN                NaN             NaN     Yes   \n",
       "14140                   NaN    NaN                NaN             NaN     Yes   \n",
       "14141                   NaN    NaN                NaN             NaN     NaN   \n",
       "14142                   NaN    NaN                NaN             NaN     NaN   \n",
       "\n",
       "       Surface of the plot  \n",
       "0                      NaN  \n",
       "1                      NaN  \n",
       "2                      NaN  \n",
       "3                      NaN  \n",
       "4                      NaN  \n",
       "...                    ...  \n",
       "14138                  NaN  \n",
       "14139                  NaN  \n",
       "14140                  NaN  \n",
       "14141                  NaN  \n",
       "14142                  NaN  \n",
       "\n",
       "[9846 rows x 20 columns]"
      ]
     },
     "execution_count": 24,
     "metadata": {},
     "output_type": "execute_result"
    }
   ],
   "source": [
    "df.loc[df['Garden surface'].isna()]"
   ]
  },
  {
   "cell_type": "markdown",
   "metadata": {},
   "source": [
    "#### Combine ['Garden'] and ['Garden surface] as ['garden_label] and map to 1,0"
   ]
  },
  {
   "cell_type": "code",
   "execution_count": 25,
   "metadata": {},
   "outputs": [],
   "source": [
    "def categorise(col):  \n",
    "    if col['Garden'] == \"Yes\" or col['Garden surface'] > 0:\n",
    "        return 1\n",
    "    return 0\n",
    "\n",
    "\n",
    "df['garden_label'] = df.apply(lambda col: categorise(col), axis=1)"
   ]
  },
  {
   "cell_type": "markdown",
   "metadata": {},
   "source": [
    "#### double check if value is 1, 0 and no missing value"
   ]
  },
  {
   "cell_type": "code",
   "execution_count": 27,
   "metadata": {},
   "outputs": [
    {
     "data": {
      "text/plain": [
       "array([0, 1])"
      ]
     },
     "execution_count": 27,
     "metadata": {},
     "output_type": "execute_result"
    }
   ],
   "source": [
    "df['garden_label'].unique()"
   ]
  },
  {
   "cell_type": "markdown",
   "metadata": {},
   "source": [
    "#### drop column Garden and Garden surface"
   ]
  },
  {
   "cell_type": "code",
   "execution_count": null,
   "metadata": {},
   "outputs": [],
   "source": []
  },
  {
   "cell_type": "markdown",
   "metadata": {},
   "source": [
    "### Garden orientation\t\n"
   ]
  },
  {
   "cell_type": "markdown",
   "metadata": {},
   "source": [
    "### Surface of the plot\n",
    "\n",
    "\n"
   ]
  },
  {
   "cell_type": "markdown",
   "metadata": {},
   "source": [
    "### Final check missing value %\n",
    "\n",
    "\n"
   ]
  },
  {
   "cell_type": "code",
   "execution_count": 49,
   "metadata": {},
   "outputs": [
    {
     "data": {
      "text/html": [
       "<div>\n",
       "<style scoped>\n",
       "    .dataframe tbody tr th:only-of-type {\n",
       "        vertical-align: middle;\n",
       "    }\n",
       "\n",
       "    .dataframe tbody tr th {\n",
       "        vertical-align: top;\n",
       "    }\n",
       "\n",
       "    .dataframe thead th {\n",
       "        text-align: right;\n",
       "    }\n",
       "</style>\n",
       "<table border=\"1\" class=\"dataframe\">\n",
       "  <thead>\n",
       "    <tr style=\"text-align: right;\">\n",
       "      <th></th>\n",
       "      <th>column_name</th>\n",
       "      <th>percent_missing</th>\n",
       "    </tr>\n",
       "  </thead>\n",
       "  <tbody>\n",
       "    <tr>\n",
       "      <th>Immoweb ID</th>\n",
       "      <td>Immoweb ID</td>\n",
       "      <td>0.000000</td>\n",
       "    </tr>\n",
       "    <tr>\n",
       "      <th>Property type</th>\n",
       "      <td>Property type</td>\n",
       "      <td>0.000000</td>\n",
       "    </tr>\n",
       "    <tr>\n",
       "      <th>property sub-type</th>\n",
       "      <td>property sub-type</td>\n",
       "      <td>0.000000</td>\n",
       "    </tr>\n",
       "    <tr>\n",
       "      <th>Price</th>\n",
       "      <td>Price</td>\n",
       "      <td>0.000000</td>\n",
       "    </tr>\n",
       "    <tr>\n",
       "      <th>Post code</th>\n",
       "      <td>Post code</td>\n",
       "      <td>0.000000</td>\n",
       "    </tr>\n",
       "    <tr>\n",
       "      <th>Building condition</th>\n",
       "      <td>Building condition</td>\n",
       "      <td>32.128968</td>\n",
       "    </tr>\n",
       "    <tr>\n",
       "      <th>Kitchen type</th>\n",
       "      <td>Kitchen type</td>\n",
       "      <td>39.369299</td>\n",
       "    </tr>\n",
       "    <tr>\n",
       "      <th>Bedrooms</th>\n",
       "      <td>Bedrooms</td>\n",
       "      <td>16.863466</td>\n",
       "    </tr>\n",
       "    <tr>\n",
       "      <th>Furnished</th>\n",
       "      <td>Furnished</td>\n",
       "      <td>34.101676</td>\n",
       "    </tr>\n",
       "    <tr>\n",
       "      <th>Terrace surface</th>\n",
       "      <td>Terrace surface</td>\n",
       "      <td>64.703387</td>\n",
       "    </tr>\n",
       "    <tr>\n",
       "      <th>Tenement building</th>\n",
       "      <td>Tenement building</td>\n",
       "      <td>2.262603</td>\n",
       "    </tr>\n",
       "    <tr>\n",
       "      <th>Number of frontages</th>\n",
       "      <td>Number of frontages</td>\n",
       "      <td>31.322916</td>\n",
       "    </tr>\n",
       "    <tr>\n",
       "      <th>Swimming pool</th>\n",
       "      <td>Swimming pool</td>\n",
       "      <td>69.101322</td>\n",
       "    </tr>\n",
       "    <tr>\n",
       "      <th>How many fireplaces?</th>\n",
       "      <td>How many fireplaces?</td>\n",
       "      <td>93.869759</td>\n",
       "    </tr>\n",
       "    <tr>\n",
       "      <th>Garden</th>\n",
       "      <td>Garden</td>\n",
       "      <td>91.303118</td>\n",
       "    </tr>\n",
       "    <tr>\n",
       "      <th>Garden orientation</th>\n",
       "      <td>Garden orientation</td>\n",
       "      <td>85.123383</td>\n",
       "    </tr>\n",
       "    <tr>\n",
       "      <th>Garden surface</th>\n",
       "      <td>Garden surface</td>\n",
       "      <td>81.086050</td>\n",
       "    </tr>\n",
       "    <tr>\n",
       "      <th>Terrace</th>\n",
       "      <td>Terrace</td>\n",
       "      <td>80.216361</td>\n",
       "    </tr>\n",
       "    <tr>\n",
       "      <th>Surface of the plot</th>\n",
       "      <td>Surface of the plot</td>\n",
       "      <td>53.906526</td>\n",
       "    </tr>\n",
       "    <tr>\n",
       "      <th>region</th>\n",
       "      <td>region</td>\n",
       "      <td>0.000000</td>\n",
       "    </tr>\n",
       "    <tr>\n",
       "      <th>commune</th>\n",
       "      <td>commune</td>\n",
       "      <td>0.000000</td>\n",
       "    </tr>\n",
       "  </tbody>\n",
       "</table>\n",
       "</div>"
      ],
      "text/plain": [
       "                               column_name  percent_missing\n",
       "Immoweb ID                      Immoweb ID         0.000000\n",
       "Property type                Property type         0.000000\n",
       "property sub-type        property sub-type         0.000000\n",
       "Price                                Price         0.000000\n",
       "Post code                        Post code         0.000000\n",
       "Building condition      Building condition        32.128968\n",
       "Kitchen type                  Kitchen type        39.369299\n",
       "Bedrooms                          Bedrooms        16.863466\n",
       "Furnished                        Furnished        34.101676\n",
       "Terrace surface            Terrace surface        64.703387\n",
       "Tenement building        Tenement building         2.262603\n",
       "Number of frontages    Number of frontages        31.322916\n",
       "Swimming pool                Swimming pool        69.101322\n",
       "How many fireplaces?  How many fireplaces?        93.869759\n",
       "Garden                              Garden        91.303118\n",
       "Garden orientation      Garden orientation        85.123383\n",
       "Garden surface              Garden surface        81.086050\n",
       "Terrace                            Terrace        80.216361\n",
       "Surface of the plot    Surface of the plot        53.906526\n",
       "region                              region         0.000000\n",
       "commune                            commune         0.000000"
      ]
     },
     "execution_count": 49,
     "metadata": {},
     "output_type": "execute_result"
    }
   ],
   "source": [
    "percent_missing = df.isnull().sum() * 100 / len(df)\n",
    "missing_value_df = pd.DataFrame({'column_name': df.columns,\n",
    "                                 'percent_missing': percent_missing})\n",
    "missing_value_df"
   ]
  },
  {
   "cell_type": "markdown",
   "metadata": {},
   "source": [
    "# Data Analysis"
   ]
  },
  {
   "cell_type": "markdown",
   "metadata": {},
   "source": [
    "### Group Post code to region"
   ]
  },
  {
   "cell_type": "code",
   "execution_count": 51,
   "metadata": {},
   "outputs": [
    {
     "name": "stdout",
     "output_type": "stream",
     "text": [
      "\u001b[33mWARNING: You are using pip version 21.3.1; however, version 22.0.3 is available.\n",
      "You should consider upgrading via the '/Users/hsinhan/PycharmProjects/challenge_immo_eliza_analysis/venv/bin/python -m pip install --upgrade pip' command.\u001b[0m\n",
      "Note: you may need to restart the kernel to use updated packages.\n"
     ]
    }
   ],
   "source": [
    "%pip install pgeocode --quiet"
   ]
  },
  {
   "cell_type": "code",
   "execution_count": 46,
   "metadata": {},
   "outputs": [
    {
     "data": {
      "text/plain": [
       "'Etterbeek'"
      ]
     },
     "execution_count": 46,
     "metadata": {},
     "output_type": "execute_result"
    }
   ],
   "source": [
    "import pgeocode\n",
    "nomi = pgeocode.Nominatim(\"be\")\n",
    "nomi.query_postal_code(\"1040\")['place_name']"
   ]
  },
  {
   "cell_type": "code",
   "execution_count": 30,
   "metadata": {},
   "outputs": [
    {
     "data": {
      "text/plain": [
       "'Wallonie'"
      ]
     },
     "execution_count": 30,
     "metadata": {},
     "output_type": "execute_result"
    }
   ],
   "source": [
    "nomi.query_postal_code(\"5030\")['state_name']"
   ]
  },
  {
   "cell_type": "code",
   "execution_count": 61,
   "metadata": {},
   "outputs": [],
   "source": [
    "def get_state(col):  \n",
    "    region = nomi.query_postal_code(col['Post code'])['state_name']\n",
    "    if region == \"Wallonie\":\n",
    "        region = \"Wallonia\"\n",
    "    elif region == \"Vlaanderen\":\n",
    "        region = \"Flanders\"\n",
    "    else:\n",
    "        region = \"Brussels\"\n",
    "    return region\n",
    "\n",
    "def get_commune(col):  \n",
    "    return nomi.query_postal_code(col['Post code'])['place_name']\n",
    "\n",
    "df['region'] = df.apply(lambda col: get_state(col), axis=1)\n",
    "df['commune'] = df.apply(lambda col: get_commune(col), axis=1)\n"
   ]
  },
  {
   "cell_type": "code",
   "execution_count": 62,
   "metadata": {},
   "outputs": [
    {
     "data": {
      "text/html": [
       "<div>\n",
       "<style scoped>\n",
       "    .dataframe tbody tr th:only-of-type {\n",
       "        vertical-align: middle;\n",
       "    }\n",
       "\n",
       "    .dataframe tbody tr th {\n",
       "        vertical-align: top;\n",
       "    }\n",
       "\n",
       "    .dataframe thead th {\n",
       "        text-align: right;\n",
       "    }\n",
       "</style>\n",
       "<table border=\"1\" class=\"dataframe\">\n",
       "  <thead>\n",
       "    <tr style=\"text-align: right;\">\n",
       "      <th></th>\n",
       "      <th>commune</th>\n",
       "      <th>Post code</th>\n",
       "      <th>region</th>\n",
       "    </tr>\n",
       "  </thead>\n",
       "  <tbody>\n",
       "    <tr>\n",
       "      <th>0</th>\n",
       "      <td>Evere</td>\n",
       "      <td>1140</td>\n",
       "      <td>Brussels</td>\n",
       "    </tr>\n",
       "    <tr>\n",
       "      <th>1</th>\n",
       "      <td>Uitkerke, Blankenberge</td>\n",
       "      <td>8370</td>\n",
       "      <td>Flanders</td>\n",
       "    </tr>\n",
       "    <tr>\n",
       "      <th>2</th>\n",
       "      <td>Uitkerke, Blankenberge</td>\n",
       "      <td>8370</td>\n",
       "      <td>Flanders</td>\n",
       "    </tr>\n",
       "    <tr>\n",
       "      <th>3</th>\n",
       "      <td>Uitkerke, Blankenberge</td>\n",
       "      <td>8370</td>\n",
       "      <td>Flanders</td>\n",
       "    </tr>\n",
       "    <tr>\n",
       "      <th>4</th>\n",
       "      <td>Laeken</td>\n",
       "      <td>1020</td>\n",
       "      <td>Brussels</td>\n",
       "    </tr>\n",
       "    <tr>\n",
       "      <th>...</th>\n",
       "      <td>...</td>\n",
       "      <td>...</td>\n",
       "      <td>...</td>\n",
       "    </tr>\n",
       "    <tr>\n",
       "      <th>14536</th>\n",
       "      <td>Asse, Kobbegem, Bekkerzeel, Mollem</td>\n",
       "      <td>1730</td>\n",
       "      <td>Flanders</td>\n",
       "    </tr>\n",
       "    <tr>\n",
       "      <th>14537</th>\n",
       "      <td>Asse, Kobbegem, Bekkerzeel, Mollem</td>\n",
       "      <td>1730</td>\n",
       "      <td>Flanders</td>\n",
       "    </tr>\n",
       "    <tr>\n",
       "      <th>14538</th>\n",
       "      <td>Asse, Kobbegem, Bekkerzeel, Mollem</td>\n",
       "      <td>1730</td>\n",
       "      <td>Flanders</td>\n",
       "    </tr>\n",
       "    <tr>\n",
       "      <th>14539</th>\n",
       "      <td>Jamiolle, Vodecée, Philippeville, Villers-En-F...</td>\n",
       "      <td>5600</td>\n",
       "      <td>Wallonia</td>\n",
       "    </tr>\n",
       "    <tr>\n",
       "      <th>14540</th>\n",
       "      <td>Durbuy, Grandhan, Barvaux-Sur-Ourthe, Wéris, S...</td>\n",
       "      <td>6940</td>\n",
       "      <td>Wallonia</td>\n",
       "    </tr>\n",
       "  </tbody>\n",
       "</table>\n",
       "<p>14143 rows × 3 columns</p>\n",
       "</div>"
      ],
      "text/plain": [
       "                                                 commune  Post code    region\n",
       "0                                                  Evere       1140  Brussels\n",
       "1                                 Uitkerke, Blankenberge       8370  Flanders\n",
       "2                                 Uitkerke, Blankenberge       8370  Flanders\n",
       "3                                 Uitkerke, Blankenberge       8370  Flanders\n",
       "4                                                 Laeken       1020  Brussels\n",
       "...                                                  ...        ...       ...\n",
       "14536                 Asse, Kobbegem, Bekkerzeel, Mollem       1730  Flanders\n",
       "14537                 Asse, Kobbegem, Bekkerzeel, Mollem       1730  Flanders\n",
       "14538                 Asse, Kobbegem, Bekkerzeel, Mollem       1730  Flanders\n",
       "14539  Jamiolle, Vodecée, Philippeville, Villers-En-F...       5600  Wallonia\n",
       "14540  Durbuy, Grandhan, Barvaux-Sur-Ourthe, Wéris, S...       6940  Wallonia\n",
       "\n",
       "[14143 rows x 3 columns]"
      ]
     },
     "execution_count": 62,
     "metadata": {},
     "output_type": "execute_result"
    }
   ],
   "source": [
    "df[['commune', 'Post code', 'region']]"
   ]
  },
  {
   "cell_type": "code",
   "execution_count": null,
   "metadata": {},
   "outputs": [],
   "source": []
  }
 ],
 "metadata": {
  "interpreter": {
   "hash": "6d5bf76d4e90c88aab91d161fa3a6e3fb8a10b1ba78e6a63235cd18117b151ba"
  },
  "kernelspec": {
   "display_name": "Python 3.9.8 ('venv': venv)",
   "language": "python",
   "name": "python398jvsc74a57bd06d5bf76d4e90c88aab91d161fa3a6e3fb8a10b1ba78e6a63235cd18117b151ba"
  },
  "language_info": {
   "codemirror_mode": {
    "name": "ipython",
    "version": 3
   },
   "file_extension": ".py",
   "mimetype": "text/x-python",
   "name": "python",
   "nbconvert_exporter": "python",
   "pygments_lexer": "ipython3",
   "version": "3.9.8"
  },
  "toc": {
   "base_numbering": 1,
   "nav_menu": {},
   "number_sections": true,
   "sideBar": true,
   "skip_h1_title": false,
   "title_cell": "Table of Contents",
   "title_sidebar": "Contents",
   "toc_cell": false,
   "toc_position": {
    "height": "calc(100% - 180px)",
    "left": "10px",
    "top": "150px",
    "width": "256px"
   },
   "toc_section_display": true,
   "toc_window_display": true
  }
 },
 "nbformat": 4,
 "nbformat_minor": 2
}
